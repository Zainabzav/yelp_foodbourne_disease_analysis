{
 "cells": [
  {
   "cell_type": "code",
   "execution_count": 1,
   "metadata": {},
   "outputs": [
    {
     "name": "stdout",
     "output_type": "stream",
     "text": [
      "Requirement already satisfied: ST_DBSCAN in /Users/zainabazizzaveri/opt/anaconda3/lib/python3.7/site-packages (0.1.2)\n",
      "Requirement already satisfied: numpy>=1.16.4 in /Users/zainabazizzaveri/opt/anaconda3/lib/python3.7/site-packages (from ST_DBSCAN) (1.17.2)\n",
      "Note: you may need to restart the kernel to use updated packages.\n"
     ]
    }
   ],
   "source": [
    "pip install ST_DBSCAN"
   ]
  },
  {
   "cell_type": "code",
   "execution_count": 95,
   "metadata": {},
   "outputs": [],
   "source": [
    "%matplotlib inline\n",
    "import ipywidgets\n",
    "import numpy as np \n",
    "import pandas as pd\n",
    "import matplotlib.pyplot as plt\n",
    "from st_dbscan import ST_DBSCAN\n",
    "import matplotlib.colors as mpl_colors\n",
    "\n",
    "\n",
    "DATA = pd.read_csv(\"sick_reviews.csv\")\n",
    "DATA.head()\n",
    "df_X = DATA[['latitude','longitude']]\n",
    "df_X.to_csv('latlong.csv')"
   ]
  },
  {
   "cell_type": "code",
   "execution_count": 47,
   "metadata": {},
   "outputs": [
    {
     "data": {
      "text/plain": [
       "0       2012-12-06 17:14:21\n",
       "1       2016-05-20 05:40:25\n",
       "2       2012-06-30 18:32:20\n",
       "3       2014-05-27 01:07:26\n",
       "4       2016-09-06 05:46:17\n",
       "                ...        \n",
       "12219   2011-10-24 04:09:23\n",
       "12220   2016-11-21 13:52:13\n",
       "12221   2018-10-21 04:16:42\n",
       "12222   2017-11-05 00:31:29\n",
       "12223   2018-07-06 22:55:33\n",
       "Name: date, Length: 12224, dtype: datetime64[ns]"
      ]
     },
     "execution_count": 47,
     "metadata": {},
     "output_type": "execute_result"
    }
   ],
   "source": [
    "from datetime import datetime\n",
    "df = pd.DataFrame()\n",
    "df = DATA\n",
    "date = pd.to_datetime(df['date'])\n",
    "date"
   ]
  },
  {
   "cell_type": "code",
   "execution_count": 48,
   "metadata": {},
   "outputs": [
    {
     "name": "stdout",
     "output_type": "stream",
     "text": [
      "2005-12-28 20:28:33\n",
      "2018-11-14 15:28:32\n",
      "0       2534 days 20:45:48\n",
      "1       3795 days 09:11:52\n",
      "2       2375 days 22:03:47\n",
      "3       3071 days 04:38:53\n",
      "4       3904 days 09:17:44\n",
      "               ...        \n",
      "12219   2125 days 07:40:50\n",
      "12220   3980 days 17:23:40\n",
      "12221   4679 days 07:48:09\n",
      "12222   4329 days 04:02:56\n",
      "12223   4573 days 02:27:00\n",
      "Name: date, Length: 12224, dtype: timedelta64[ns]\n",
      "4703 days 18:59:59\n"
     ]
    }
   ],
   "source": [
    "df['date'] = date\n",
    "print(df['date'].min())\n",
    "print(df['date'].max())\n",
    "print(df['date'] - df['date'].min())\n",
    "print((df['date'].max() - df['date'].min()))\n",
    "\n",
    "\n"
   ]
  },
  {
   "cell_type": "code",
   "execution_count": 49,
   "metadata": {},
   "outputs": [
    {
     "data": {
      "text/plain": [
       "Unnamed: 0               int64\n",
       "Unnamed: 0.1             int64\n",
       "name                    object\n",
       "address                 object\n",
       "city                    object\n",
       "state                   object\n",
       "postal_code            float64\n",
       "latitude               float64\n",
       "longitude              float64\n",
       "text                    object\n",
       "date            datetime64[ns]\n",
       "score                  float64\n",
       "dtype: object"
      ]
     },
     "execution_count": 49,
     "metadata": {},
     "output_type": "execute_result"
    }
   ],
   "source": [
    "df.dtypes"
   ]
  },
  {
   "cell_type": "code",
   "execution_count": 50,
   "metadata": {},
   "outputs": [
    {
     "name": "stdout",
     "output_type": "stream",
     "text": [
      "33.2178145\n",
      "43.252157700000005\n",
      "10.034343200000002\n",
      "-115.4354310036\n",
      "-79.65014920000002\n"
     ]
    }
   ],
   "source": [
    "print(df['latitude'].min())\n",
    "print(df['latitude'].max())\n",
    "print((df['latitude'].max() - df['latitude'].min()))\n",
    "print(df['longitude'].min())\n",
    "print(df['longitude'].max())"
   ]
  },
  {
   "cell_type": "code",
   "execution_count": 51,
   "metadata": {},
   "outputs": [
    {
     "name": "stdout",
     "output_type": "stream",
     "text": [
      "Requirement already satisfied: geopy in /Users/zainabazizzaveri/opt/anaconda3/lib/python3.7/site-packages (1.21.0)\n",
      "Requirement already satisfied: geographiclib<2,>=1.49 in /Users/zainabazizzaveri/opt/anaconda3/lib/python3.7/site-packages (from geopy) (1.50)\n",
      "Note: you may need to restart the kernel to use updated packages.\n"
     ]
    }
   ],
   "source": [
    "pip install geopy"
   ]
  },
  {
   "cell_type": "code",
   "execution_count": 52,
   "metadata": {},
   "outputs": [
    {
     "name": "stdout",
     "output_type": "stream",
     "text": [
      "3295.434593709583\n"
     ]
    },
    {
     "name": "stderr",
     "output_type": "stream",
     "text": [
      "/Users/zainabazizzaveri/opt/anaconda3/lib/python3.7/site-packages/ipykernel_launcher.py:6: DeprecationWarning: Vincenty is deprecated and is going to be removed in geopy 2.0. Use `geopy.distance.geodesic` (or the default `geopy.distance.distance`) instead, which is more accurate and always converges.\n",
      "  \n"
     ]
    }
   ],
   "source": [
    "import geopy.distance\n",
    "\n",
    "coords_1 = (33.2178145,-115.4354310036 )\n",
    "coords_2 = (43.252157700000005, -79.65014920000002)\n",
    "\n",
    "print(geopy.distance.vincenty(coords_1, coords_2).km)"
   ]
  },
  {
   "cell_type": "code",
   "execution_count": 53,
   "metadata": {},
   "outputs": [
    {
     "data": {
      "text/plain": [
       "0        0.186833\n",
       "1        0.026005\n",
       "2        0.026005\n",
       "3        0.016611\n",
       "4        0.023165\n",
       "           ...   \n",
       "12219    0.020498\n",
       "12220    0.201213\n",
       "12221    0.056006\n",
       "12222    0.012924\n",
       "12223    0.286026\n",
       "Name: latitude, Length: 12224, dtype: float64"
      ]
     },
     "execution_count": 53,
     "metadata": {},
     "output_type": "execute_result"
    }
   ],
   "source": [
    "# normalize the data\n",
    "df['latitude'] = (df['latitude'] - df['latitude'].min()) / (df['latitude'].max() - df['latitude'].min())\n",
    "df['latitude']"
   ]
  },
  {
   "cell_type": "code",
   "execution_count": 54,
   "metadata": {},
   "outputs": [
    {
     "data": {
      "text/plain": [
       "0        0.966216\n",
       "1        0.098084\n",
       "2        0.098084\n",
       "3        0.101475\n",
       "4        0.103870\n",
       "           ...   \n",
       "12219    0.100001\n",
       "12220    0.969601\n",
       "12221    0.098146\n",
       "12222    0.096526\n",
       "12223    0.006849\n",
       "Name: longitude, Length: 12224, dtype: float64"
      ]
     },
     "execution_count": 54,
     "metadata": {},
     "output_type": "execute_result"
    }
   ],
   "source": [
    "df['longitude'] = (df['longitude'] - df['longitude'].min()) / (df['longitude'].max() - df['longitude'].min())\n",
    "df['longitude']"
   ]
  },
  {
   "cell_type": "code",
   "execution_count": 55,
   "metadata": {},
   "outputs": [
    {
     "data": {
      "text/plain": [
       "0        0.538898\n",
       "1        0.806877\n",
       "2        0.505107\n",
       "3        0.652919\n",
       "4        0.830051\n",
       "           ...   \n",
       "12219    0.451831\n",
       "12220    0.846280\n",
       "12221    0.994799\n",
       "12222    0.920357\n",
       "12223    0.972216\n",
       "Name: date, Length: 12224, dtype: float64"
      ]
     },
     "execution_count": 55,
     "metadata": {},
     "output_type": "execute_result"
    }
   ],
   "source": [
    "df['date'] = (df['date'] - df['date'].min()) / (df['date'].max() - df['date'].min())\n",
    "df['date']"
   ]
  },
  {
   "cell_type": "code",
   "execution_count": 56,
   "metadata": {},
   "outputs": [],
   "source": [
    "# transform to numpy array\n",
    "data = df.loc[:, ['date','latitude','longitude']].values"
   ]
  },
  {
   "cell_type": "code",
   "execution_count": 120,
   "metadata": {},
   "outputs": [
    {
     "data": {
      "text/plain": [
       "8.867709208039386"
      ]
     },
     "execution_count": 120,
     "metadata": {},
     "output_type": "execute_result"
    }
   ],
   "source": [
    "import math\n",
    "n = 7099\n",
    "min_samples = math.log(n)\n",
    "min_samples"
   ]
  },
  {
   "cell_type": "code",
   "execution_count": 129,
   "metadata": {},
   "outputs": [],
   "source": [
    "st_dbscan = ST_DBSCAN(eps1 = 0.03, eps2 = 0.00063789, min_samples = 9) \n",
    "# for list of all parameter description see - src code comments"
   ]
  },
  {
   "cell_type": "code",
   "execution_count": 130,
   "metadata": {},
   "outputs": [
    {
     "data": {
      "text/plain": [
       "<st_dbscan.st_dbscan.ST_DBSCAN at 0x1a21a126d0>"
      ]
     },
     "execution_count": 130,
     "metadata": {},
     "output_type": "execute_result"
    }
   ],
   "source": [
    "st_dbscan.fit(data)"
   ]
  },
  {
   "cell_type": "code",
   "execution_count": 131,
   "metadata": {},
   "outputs": [
    {
     "data": {
      "image/png": "[encoded data removed]",
      "text/plain": [
       "<Figure size 432x288 with 1 Axes>"
      ]
     },
     "metadata": {
      "needs_background": "light"
     },
     "output_type": "display_data"
    }
   ],
   "source": [
    "def plot(data, labels):\n",
    "    colors = ['#a6cee3','#1f78b4','#b2df8a','#33a02c','#fb9a99','#e31a1c','#fdbf6f','#ff7f00','#cab2d6','#6a3d9a']\n",
    "    \n",
    "    for i in range(-1, len(set(labels))):\n",
    "        if i == -1:\n",
    "            col = [0, 0, 0, 1]\n",
    "        else:\n",
    "            col = colors[i % len(colors)]\n",
    "        \n",
    "        clust = data[np.where(labels==i)]\n",
    "        plt.scatter(clust[:,0], clust[:,1], c=[col], s=1)\n",
    "    plt.show()\n",
    "\n",
    "    return None\n",
    "\n",
    "plot(data[:,1:], st_dbscan.labels)"
   ]
  },
  {
   "cell_type": "code",
   "execution_count": 132,
   "metadata": {},
   "outputs": [
    {
     "data": {
      "text/plain": [
       "array([ -1,   0,  35,   1,   2,   3,   4,   5, 128,   6,  37,   7,   8,\n",
       "         9,  10,  11,  12,  13,  14,  55,  15,  16,  89,  17,  18,  19,\n",
       "        20,  21,  22,  23,  24,  94,  25,  26,  27,  28, 104, 122,  42,\n",
       "        29,  30,  68,  81, 117,  31,  32,  33,  34,  36,  38,  39,  40,\n",
       "        73, 132,  91,  41, 118,  43,  44,  45,  46,  92,  62,  47,  48,\n",
       "       100,  49,  50,  51,  52,  53,  54, 131,  79,  58,  87,  56,  66,\n",
       "       105,  57, 119,  59,  60,  61, 120,  77,  63,  64, 121,  65, 127,\n",
       "       110,  67,  69,  78,  70, 123,  71,  72,  99,  74,  75,  76, 108,\n",
       "       102, 130, 107,  80,  82,  83,  84,  85,  97,  86, 133, 126,  90,\n",
       "        96,  88, 125,  93, 109, 129, 124,  95, 106,  98, 101, 115, 111,\n",
       "       103, 116, 134, 113, 112, 114])"
      ]
     },
     "execution_count": 132,
     "metadata": {},
     "output_type": "execute_result"
    }
   ],
   "source": [
    "df['cluster'] = st_dbscan.labels.tolist()\n",
    "df['cluster'].unique()"
   ]
  },
  {
   "cell_type": "code",
   "execution_count": 133,
   "metadata": {},
   "outputs": [
    {
     "data": {
      "text/html": [
       "<div>\n",
       "<style scoped>\n",
       "    .dataframe tbody tr th:only-of-type {\n",
       "        vertical-align: middle;\n",
       "    }\n",
       "\n",
       "    .dataframe tbody tr th {\n",
       "        vertical-align: top;\n",
       "    }\n",
       "\n",
       "    .dataframe thead th {\n",
       "        text-align: right;\n",
       "    }\n",
       "</style>\n",
       "<table border=\"1\" class=\"dataframe\">\n",
       "  <thead>\n",
       "    <tr style=\"text-align: right;\">\n",
       "      <th></th>\n",
       "      <th>Unnamed: 0</th>\n",
       "      <th>Unnamed: 0.1</th>\n",
       "      <th>name</th>\n",
       "      <th>address</th>\n",
       "      <th>city</th>\n",
       "      <th>state</th>\n",
       "      <th>postal_code</th>\n",
       "      <th>latitude</th>\n",
       "      <th>longitude</th>\n",
       "      <th>text</th>\n",
       "      <th>date</th>\n",
       "      <th>score</th>\n",
       "      <th>cluster</th>\n",
       "    </tr>\n",
       "  </thead>\n",
       "  <tbody>\n",
       "    <tr>\n",
       "      <td>0</td>\n",
       "      <td>21</td>\n",
       "      <td>21</td>\n",
       "      <td>Musashi Japanese Restaurant</td>\n",
       "      <td>10110 Johnston Rd, Ste 15</td>\n",
       "      <td>Charlotte</td>\n",
       "      <td>NC</td>\n",
       "      <td>28210.0</td>\n",
       "      <td>0.186833</td>\n",
       "      <td>0.966216</td>\n",
       "      <td>I love sushi and japanese food.  I was looking...</td>\n",
       "      <td>2012-12-06 17:14:21</td>\n",
       "      <td>0.888218</td>\n",
       "      <td>-1</td>\n",
       "    </tr>\n",
       "    <tr>\n",
       "      <td>1</td>\n",
       "      <td>907</td>\n",
       "      <td>907</td>\n",
       "      <td>Yummy Yummy Chinese Restaurant</td>\n",
       "      <td>2765 N Scottsdale Rd, Ste 105</td>\n",
       "      <td>Scottsdale</td>\n",
       "      <td>AZ</td>\n",
       "      <td>85257.0</td>\n",
       "      <td>0.026005</td>\n",
       "      <td>0.098084</td>\n",
       "      <td>My First time in Scottsdale was last weekend. ...</td>\n",
       "      <td>2016-05-20 05:40:25</td>\n",
       "      <td>0.953063</td>\n",
       "      <td>0</td>\n",
       "    </tr>\n",
       "    <tr>\n",
       "      <td>2</td>\n",
       "      <td>908</td>\n",
       "      <td>908</td>\n",
       "      <td>Yummy Yummy Chinese Restaurant</td>\n",
       "      <td>2765 N Scottsdale Rd, Ste 105</td>\n",
       "      <td>Scottsdale</td>\n",
       "      <td>AZ</td>\n",
       "      <td>85257.0</td>\n",
       "      <td>0.026005</td>\n",
       "      <td>0.098084</td>\n",
       "      <td>Ok, I am reviewing this so I will go with 3 st...</td>\n",
       "      <td>2012-06-30 18:32:20</td>\n",
       "      <td>0.999676</td>\n",
       "      <td>-1</td>\n",
       "    </tr>\n",
       "    <tr>\n",
       "      <td>3</td>\n",
       "      <td>1469</td>\n",
       "      <td>1469</td>\n",
       "      <td>Piggly's At the Fair</td>\n",
       "      <td>1633 S Stapley Dr</td>\n",
       "      <td>Mesa</td>\n",
       "      <td>AZ</td>\n",
       "      <td>85204.0</td>\n",
       "      <td>0.016611</td>\n",
       "      <td>0.101475</td>\n",
       "      <td>I ate at Pigglys for dinner last night. Had a ...</td>\n",
       "      <td>2014-05-27 01:07:26</td>\n",
       "      <td>0.945725</td>\n",
       "      <td>35</td>\n",
       "    </tr>\n",
       "    <tr>\n",
       "      <td>4</td>\n",
       "      <td>1537</td>\n",
       "      <td>1537</td>\n",
       "      <td>Arbys Restaurant Higley Rd</td>\n",
       "      <td>1927 N Higley Rd</td>\n",
       "      <td>Mesa</td>\n",
       "      <td>AZ</td>\n",
       "      <td>85205.0</td>\n",
       "      <td>0.023165</td>\n",
       "      <td>0.103870</td>\n",
       "      <td>I rated this a 1 star because the guy that ser...</td>\n",
       "      <td>2016-09-06 05:46:17</td>\n",
       "      <td>1.000000</td>\n",
       "      <td>1</td>\n",
       "    </tr>\n",
       "    <tr>\n",
       "      <td>...</td>\n",
       "      <td>...</td>\n",
       "      <td>...</td>\n",
       "      <td>...</td>\n",
       "      <td>...</td>\n",
       "      <td>...</td>\n",
       "      <td>...</td>\n",
       "      <td>...</td>\n",
       "      <td>...</td>\n",
       "      <td>...</td>\n",
       "      <td>...</td>\n",
       "      <td>...</td>\n",
       "      <td>...</td>\n",
       "      <td>...</td>\n",
       "    </tr>\n",
       "    <tr>\n",
       "      <td>12219</td>\n",
       "      <td>4665603</td>\n",
       "      <td>4665605</td>\n",
       "      <td>Burrito Express</td>\n",
       "      <td>450 N Alma School R</td>\n",
       "      <td>Mesa</td>\n",
       "      <td>AZ</td>\n",
       "      <td>85201.0</td>\n",
       "      <td>0.020498</td>\n",
       "      <td>0.100001</td>\n",
       "      <td>I don't understand why everyone likes this pla...</td>\n",
       "      <td>2011-10-24 04:09:23</td>\n",
       "      <td>0.927771</td>\n",
       "      <td>-1</td>\n",
       "    </tr>\n",
       "    <tr>\n",
       "      <td>12220</td>\n",
       "      <td>4666120</td>\n",
       "      <td>4666122</td>\n",
       "      <td>Cook Out</td>\n",
       "      <td>5715 N Sharon Amity Rd</td>\n",
       "      <td>Charlotte</td>\n",
       "      <td>NC</td>\n",
       "      <td>28215.0</td>\n",
       "      <td>0.201213</td>\n",
       "      <td>0.969601</td>\n",
       "      <td>If you're coming here after 2:30am, don't expe...</td>\n",
       "      <td>2016-11-21 13:52:13</td>\n",
       "      <td>0.954895</td>\n",
       "      <td>-1</td>\n",
       "    </tr>\n",
       "    <tr>\n",
       "      <td>12221</td>\n",
       "      <td>4666345</td>\n",
       "      <td>4666347</td>\n",
       "      <td>Cherry On Top</td>\n",
       "      <td>32421 N Scottsdale Rd, Ste 115</td>\n",
       "      <td>Scottsdale</td>\n",
       "      <td>AZ</td>\n",
       "      <td>85266.0</td>\n",
       "      <td>0.056006</td>\n",
       "      <td>0.098146</td>\n",
       "      <td>55 cents an ounce???? Wow. What a premium Far ...</td>\n",
       "      <td>2018-10-21 04:16:42</td>\n",
       "      <td>0.998578</td>\n",
       "      <td>76</td>\n",
       "    </tr>\n",
       "    <tr>\n",
       "      <td>12222</td>\n",
       "      <td>4666383</td>\n",
       "      <td>4666385</td>\n",
       "      <td>Subway</td>\n",
       "      <td>4747 E Elliot Rd, Ste 33</td>\n",
       "      <td>Phoenix</td>\n",
       "      <td>AZ</td>\n",
       "      <td>85044.0</td>\n",
       "      <td>0.012924</td>\n",
       "      <td>0.096526</td>\n",
       "      <td>Came here yesterday around 3pm &amp; got the spicy...</td>\n",
       "      <td>2017-11-05 00:31:29</td>\n",
       "      <td>0.997833</td>\n",
       "      <td>66</td>\n",
       "    </tr>\n",
       "    <tr>\n",
       "      <td>12223</td>\n",
       "      <td>4666950</td>\n",
       "      <td>4666952</td>\n",
       "      <td>Jessie Rae's BBQ</td>\n",
       "      <td>5611 S Valley View Blvd</td>\n",
       "      <td>Las Vegas</td>\n",
       "      <td>NV</td>\n",
       "      <td>89118.0</td>\n",
       "      <td>0.286026</td>\n",
       "      <td>0.006849</td>\n",
       "      <td>My husband took me to eat here today for lunch...</td>\n",
       "      <td>2018-07-06 22:55:33</td>\n",
       "      <td>0.981981</td>\n",
       "      <td>7</td>\n",
       "    </tr>\n",
       "  </tbody>\n",
       "</table>\n",
       "<p>12224 rows × 13 columns</p>\n",
       "</div>"
      ],
      "text/plain": [
       "       Unnamed: 0  Unnamed: 0.1                            name  \\\n",
       "0              21            21     Musashi Japanese Restaurant   \n",
       "1             907           907  Yummy Yummy Chinese Restaurant   \n",
       "2             908           908  Yummy Yummy Chinese Restaurant   \n",
       "3            1469          1469            Piggly's At the Fair   \n",
       "4            1537          1537      Arbys Restaurant Higley Rd   \n",
       "...           ...           ...                             ...   \n",
       "12219     4665603       4665605                 Burrito Express   \n",
       "12220     4666120       4666122                        Cook Out   \n",
       "12221     4666345       4666347                   Cherry On Top   \n",
       "12222     4666383       4666385                          Subway   \n",
       "12223     4666950       4666952                Jessie Rae's BBQ   \n",
       "\n",
       "                              address        city state  postal_code  \\\n",
       "0           10110 Johnston Rd, Ste 15   Charlotte    NC      28210.0   \n",
       "1       2765 N Scottsdale Rd, Ste 105  Scottsdale    AZ      85257.0   \n",
       "2       2765 N Scottsdale Rd, Ste 105  Scottsdale    AZ      85257.0   \n",
       "3                   1633 S Stapley Dr        Mesa    AZ      85204.0   \n",
       "4                    1927 N Higley Rd        Mesa    AZ      85205.0   \n",
       "...                               ...         ...   ...          ...   \n",
       "12219             450 N Alma School R        Mesa    AZ      85201.0   \n",
       "12220          5715 N Sharon Amity Rd   Charlotte    NC      28215.0   \n",
       "12221  32421 N Scottsdale Rd, Ste 115  Scottsdale    AZ      85266.0   \n",
       "12222        4747 E Elliot Rd, Ste 33     Phoenix    AZ      85044.0   \n",
       "12223         5611 S Valley View Blvd   Las Vegas    NV      89118.0   \n",
       "\n",
       "       latitude  longitude                                               text  \\\n",
       "0      0.186833   0.966216  I love sushi and japanese food.  I was looking...   \n",
       "1      0.026005   0.098084  My First time in Scottsdale was last weekend. ...   \n",
       "2      0.026005   0.098084  Ok, I am reviewing this so I will go with 3 st...   \n",
       "3      0.016611   0.101475  I ate at Pigglys for dinner last night. Had a ...   \n",
       "4      0.023165   0.103870  I rated this a 1 star because the guy that ser...   \n",
       "...         ...        ...                                                ...   \n",
       "12219  0.020498   0.100001  I don't understand why everyone likes this pla...   \n",
       "12220  0.201213   0.969601  If you're coming here after 2:30am, don't expe...   \n",
       "12221  0.056006   0.098146  55 cents an ounce???? Wow. What a premium Far ...   \n",
       "12222  0.012924   0.096526  Came here yesterday around 3pm & got the spicy...   \n",
       "12223  0.286026   0.006849  My husband took me to eat here today for lunch...   \n",
       "\n",
       "                     date     score  cluster  \n",
       "0     2012-12-06 17:14:21  0.888218       -1  \n",
       "1     2016-05-20 05:40:25  0.953063        0  \n",
       "2     2012-06-30 18:32:20  0.999676       -1  \n",
       "3     2014-05-27 01:07:26  0.945725       35  \n",
       "4     2016-09-06 05:46:17  1.000000        1  \n",
       "...                   ...       ...      ...  \n",
       "12219 2011-10-24 04:09:23  0.927771       -1  \n",
       "12220 2016-11-21 13:52:13  0.954895       -1  \n",
       "12221 2018-10-21 04:16:42  0.998578       76  \n",
       "12222 2017-11-05 00:31:29  0.997833       66  \n",
       "12223 2018-07-06 22:55:33  0.981981        7  \n",
       "\n",
       "[12224 rows x 13 columns]"
      ]
     },
     "execution_count": 133,
     "metadata": {},
     "output_type": "execute_result"
    }
   ],
   "source": [
    "df['date'] = date\n",
    "df"
   ]
  },
  {
   "cell_type": "code",
   "execution_count": 134,
   "metadata": {},
   "outputs": [
    {
     "data": {
      "text/plain": [
       "<Figure size 432x288 with 0 Axes>"
      ]
     },
     "metadata": {},
     "output_type": "display_data"
    },
    {
     "data": {
      "application/vnd.jupyter.widget-view+json": {
       "model_id": "d98d2a35b52b485280a736fa3a80866a",
       "version_major": 2,
       "version_minor": 0
      },
      "text/plain": [
       "interactive(children=(Dropdown(description='x', index=6, options=('Unnamed: 0.1', 'address', 'city', 'state', …"
      ]
     },
     "metadata": {},
     "output_type": "display_data"
    }
   ],
   "source": [
    "plt.clf()\n",
    "# This section filters out columns\n",
    "# Options to be removed are initializaed in tuples. Simply felt better because tuples are immutable.\n",
    "x_irrelevant_options = ('Unnamed: 0', 'Unnamed: 1', 'name')\n",
    "y_irrelevant_options = ('Unnamed: 0', 'Unnamed: 1', 'name')\n",
    "x_axis_options = [e for e in df.columns if e not in x_irrelevant_options]\n",
    "y_axis_options = [e for e in df.columns if e not in y_irrelevant_options]\n",
    "\n",
    "# This section generates the widget itself\n",
    "@ipywidgets.interact(x = x_axis_options, y= y_axis_options, colormap = plt.colormaps(),sym_log = True)\n",
    "def plot(x = 'longitude',y = 'latitude', colormap = 'jet',sym_log = True):\n",
    "    if sym_log:\n",
    "        norm = mpl_colors.SymLogNorm(10)\n",
    "    else:\n",
    "        norm = mpl_colors.Normalize()\n",
    "        \n",
    "    fig, ax = plt.subplots(figsize=(16,9))\n",
    "    CAX = ax.scatter(df[x],df[y], cmap=colormap, norm = norm, c=(df['cluster']))\n",
    "    fig.suptitle('test', fontsize=23)\n",
    "    plt.xlabel(x, fontsize=18)\n",
    "    plt.ylabel(y, fontsize=18)\n",
    "    plt.colorbar(CAX, extend = 'both')\n",
    "    # Rotates the x-axis labels if they are object(s) like 'shape' or 'city' to promote readability\n",
    "    if df[x].dtype == 'object':\n",
    "        plt.xticks(rotation=90)\n",
    "    elif df[x].dtype == 'float64':\n",
    "        plt.xticks(rotation=0)\n",
    "\n",
    "    plt.show()"
   ]
  },
  {
   "cell_type": "code",
   "execution_count": 65,
   "metadata": {},
   "outputs": [
    {
     "name": "stdout",
     "output_type": "stream",
     "text": [
      "Requirement already satisfied: ipywidgets in /Users/zainabazizzaveri/opt/anaconda3/lib/python3.7/site-packages (7.5.1)\n",
      "Requirement already satisfied: ipykernel>=4.5.1 in /Users/zainabazizzaveri/opt/anaconda3/lib/python3.7/site-packages (from ipywidgets) (5.1.2)\n",
      "Requirement already satisfied: widgetsnbextension~=3.5.0 in /Users/zainabazizzaveri/opt/anaconda3/lib/python3.7/site-packages (from ipywidgets) (3.5.1)\n",
      "Requirement already satisfied: ipython>=4.0.0; python_version >= \"3.3\" in /Users/zainabazizzaveri/opt/anaconda3/lib/python3.7/site-packages (from ipywidgets) (7.8.0)\n",
      "Requirement already satisfied: nbformat>=4.2.0 in /Users/zainabazizzaveri/opt/anaconda3/lib/python3.7/site-packages (from ipywidgets) (4.4.0)\n",
      "Requirement already satisfied: traitlets>=4.3.1 in /Users/zainabazizzaveri/opt/anaconda3/lib/python3.7/site-packages (from ipywidgets) (4.3.3)\n",
      "Requirement already satisfied: tornado>=4.2 in /Users/zainabazizzaveri/opt/anaconda3/lib/python3.7/site-packages (from ipykernel>=4.5.1->ipywidgets) (6.0.3)\n",
      "Requirement already satisfied: jupyter-client in /Users/zainabazizzaveri/opt/anaconda3/lib/python3.7/site-packages (from ipykernel>=4.5.1->ipywidgets) (5.3.3)\n",
      "Requirement already satisfied: notebook>=4.4.1 in /Users/zainabazizzaveri/opt/anaconda3/lib/python3.7/site-packages (from widgetsnbextension~=3.5.0->ipywidgets) (6.0.1)\n",
      "Requirement already satisfied: pygments in /Users/zainabazizzaveri/opt/anaconda3/lib/python3.7/site-packages (from ipython>=4.0.0; python_version >= \"3.3\"->ipywidgets) (2.4.2)\n",
      "Requirement already satisfied: setuptools>=18.5 in /Users/zainabazizzaveri/opt/anaconda3/lib/python3.7/site-packages (from ipython>=4.0.0; python_version >= \"3.3\"->ipywidgets) (41.4.0)\n",
      "Requirement already satisfied: prompt-toolkit<2.1.0,>=2.0.0 in /Users/zainabazizzaveri/opt/anaconda3/lib/python3.7/site-packages (from ipython>=4.0.0; python_version >= \"3.3\"->ipywidgets) (2.0.10)\n",
      "Requirement already satisfied: pickleshare in /Users/zainabazizzaveri/opt/anaconda3/lib/python3.7/site-packages (from ipython>=4.0.0; python_version >= \"3.3\"->ipywidgets) (0.7.5)\n",
      "Requirement already satisfied: jedi>=0.10 in /Users/zainabazizzaveri/opt/anaconda3/lib/python3.7/site-packages (from ipython>=4.0.0; python_version >= \"3.3\"->ipywidgets) (0.15.1)\n",
      "Requirement already satisfied: appnope; sys_platform == \"darwin\" in /Users/zainabazizzaveri/opt/anaconda3/lib/python3.7/site-packages (from ipython>=4.0.0; python_version >= \"3.3\"->ipywidgets) (0.1.0)\n",
      "Requirement already satisfied: decorator in /Users/zainabazizzaveri/opt/anaconda3/lib/python3.7/site-packages (from ipython>=4.0.0; python_version >= \"3.3\"->ipywidgets) (4.4.0)\n",
      "Requirement already satisfied: backcall in /Users/zainabazizzaveri/opt/anaconda3/lib/python3.7/site-packages (from ipython>=4.0.0; python_version >= \"3.3\"->ipywidgets) (0.1.0)\n",
      "Requirement already satisfied: pexpect; sys_platform != \"win32\" in /Users/zainabazizzaveri/opt/anaconda3/lib/python3.7/site-packages (from ipython>=4.0.0; python_version >= \"3.3\"->ipywidgets) (4.7.0)\n",
      "Requirement already satisfied: jsonschema!=2.5.0,>=2.4 in /Users/zainabazizzaveri/opt/anaconda3/lib/python3.7/site-packages (from nbformat>=4.2.0->ipywidgets) (3.0.2)\n",
      "Requirement already satisfied: ipython-genutils in /Users/zainabazizzaveri/opt/anaconda3/lib/python3.7/site-packages (from nbformat>=4.2.0->ipywidgets) (0.2.0)\n",
      "Requirement already satisfied: jupyter-core in /Users/zainabazizzaveri/opt/anaconda3/lib/python3.7/site-packages (from nbformat>=4.2.0->ipywidgets) (4.5.0)\n",
      "Requirement already satisfied: six in /Users/zainabazizzaveri/opt/anaconda3/lib/python3.7/site-packages (from traitlets>=4.3.1->ipywidgets) (1.12.0)\n",
      "Requirement already satisfied: pyzmq>=13 in /Users/zainabazizzaveri/opt/anaconda3/lib/python3.7/site-packages (from jupyter-client->ipykernel>=4.5.1->ipywidgets) (18.1.0)\n",
      "Requirement already satisfied: python-dateutil>=2.1 in /Users/zainabazizzaveri/opt/anaconda3/lib/python3.7/site-packages (from jupyter-client->ipykernel>=4.5.1->ipywidgets) (2.8.0)\n",
      "Requirement already satisfied: Send2Trash in /Users/zainabazizzaveri/opt/anaconda3/lib/python3.7/site-packages (from notebook>=4.4.1->widgetsnbextension~=3.5.0->ipywidgets) (1.5.0)\n",
      "Requirement already satisfied: nbconvert in /Users/zainabazizzaveri/opt/anaconda3/lib/python3.7/site-packages (from notebook>=4.4.1->widgetsnbextension~=3.5.0->ipywidgets) (5.6.0)\n",
      "Requirement already satisfied: terminado>=0.8.1 in /Users/zainabazizzaveri/opt/anaconda3/lib/python3.7/site-packages (from notebook>=4.4.1->widgetsnbextension~=3.5.0->ipywidgets) (0.8.2)\n",
      "Requirement already satisfied: prometheus-client in /Users/zainabazizzaveri/opt/anaconda3/lib/python3.7/site-packages (from notebook>=4.4.1->widgetsnbextension~=3.5.0->ipywidgets) (0.7.1)\n",
      "Requirement already satisfied: jinja2 in /Users/zainabazizzaveri/opt/anaconda3/lib/python3.7/site-packages (from notebook>=4.4.1->widgetsnbextension~=3.5.0->ipywidgets) (2.10.3)\n",
      "Requirement already satisfied: wcwidth in /Users/zainabazizzaveri/opt/anaconda3/lib/python3.7/site-packages (from prompt-toolkit<2.1.0,>=2.0.0->ipython>=4.0.0; python_version >= \"3.3\"->ipywidgets) (0.1.7)\n",
      "Requirement already satisfied: parso>=0.5.0 in /Users/zainabazizzaveri/opt/anaconda3/lib/python3.7/site-packages (from jedi>=0.10->ipython>=4.0.0; python_version >= \"3.3\"->ipywidgets) (0.5.1)\n",
      "Requirement already satisfied: ptyprocess>=0.5 in /Users/zainabazizzaveri/opt/anaconda3/lib/python3.7/site-packages (from pexpect; sys_platform != \"win32\"->ipython>=4.0.0; python_version >= \"3.3\"->ipywidgets) (0.6.0)\n",
      "Requirement already satisfied: pyrsistent>=0.14.0 in /Users/zainabazizzaveri/opt/anaconda3/lib/python3.7/site-packages (from jsonschema!=2.5.0,>=2.4->nbformat>=4.2.0->ipywidgets) (0.15.4)\n",
      "Requirement already satisfied: attrs>=17.4.0 in /Users/zainabazizzaveri/opt/anaconda3/lib/python3.7/site-packages (from jsonschema!=2.5.0,>=2.4->nbformat>=4.2.0->ipywidgets) (19.2.0)\n",
      "Requirement already satisfied: pandocfilters>=1.4.1 in /Users/zainabazizzaveri/opt/anaconda3/lib/python3.7/site-packages (from nbconvert->notebook>=4.4.1->widgetsnbextension~=3.5.0->ipywidgets) (1.4.2)\n",
      "Requirement already satisfied: testpath in /Users/zainabazizzaveri/opt/anaconda3/lib/python3.7/site-packages (from nbconvert->notebook>=4.4.1->widgetsnbextension~=3.5.0->ipywidgets) (0.4.2)\n",
      "Requirement already satisfied: mistune<2,>=0.8.1 in /Users/zainabazizzaveri/opt/anaconda3/lib/python3.7/site-packages (from nbconvert->notebook>=4.4.1->widgetsnbextension~=3.5.0->ipywidgets) (0.8.4)\n",
      "Requirement already satisfied: bleach in /Users/zainabazizzaveri/opt/anaconda3/lib/python3.7/site-packages (from nbconvert->notebook>=4.4.1->widgetsnbextension~=3.5.0->ipywidgets) (3.1.0)\n",
      "Requirement already satisfied: entrypoints>=0.2.2 in /Users/zainabazizzaveri/opt/anaconda3/lib/python3.7/site-packages (from nbconvert->notebook>=4.4.1->widgetsnbextension~=3.5.0->ipywidgets) (0.3)\n",
      "Requirement already satisfied: defusedxml in /Users/zainabazizzaveri/opt/anaconda3/lib/python3.7/site-packages (from nbconvert->notebook>=4.4.1->widgetsnbextension~=3.5.0->ipywidgets) (0.6.0)\n",
      "Requirement already satisfied: MarkupSafe>=0.23 in /Users/zainabazizzaveri/opt/anaconda3/lib/python3.7/site-packages (from jinja2->notebook>=4.4.1->widgetsnbextension~=3.5.0->ipywidgets) (1.1.1)\n",
      "Requirement already satisfied: webencodings in /Users/zainabazizzaveri/opt/anaconda3/lib/python3.7/site-packages (from bleach->nbconvert->notebook>=4.4.1->widgetsnbextension~=3.5.0->ipywidgets) (0.5.1)\n",
      "Note: you may need to restart the kernel to use updated packages.\n"
     ]
    }
   ],
   "source": [
    "pip install ipywidgets"
   ]
  },
  {
   "cell_type": "code",
   "execution_count": 135,
   "metadata": {},
   "outputs": [
    {
     "data": {
      "text/plain": [
       "cluster\n",
       "-1      4249\n",
       " 0       114\n",
       " 1        69\n",
       " 2       693\n",
       " 3        17\n",
       "        ... \n",
       " 130      12\n",
       " 131       5\n",
       " 132      11\n",
       " 133       9\n",
       " 134       9\n",
       "Name: score, Length: 136, dtype: int64"
      ]
     },
     "execution_count": 135,
     "metadata": {},
     "output_type": "execute_result"
    }
   ],
   "source": [
    "df.groupby('cluster').count()['score']"
   ]
  },
  {
   "cell_type": "code",
   "execution_count": 139,
   "metadata": {},
   "outputs": [
    {
     "name": "stdout",
     "output_type": "stream",
     "text": [
      "2014-08-29 05:05:00\n",
      "2014-09-03 15:27:04\n"
     ]
    }
   ],
   "source": [
    "a = df[df['cluster']==134]\n",
    "print(a['date'].min())\n",
    "print(a['date'].max())"
   ]
  },
  {
   "cell_type": "code",
   "execution_count": 92,
   "metadata": {},
   "outputs": [],
   "source": [
    "df.to_csv(\"datatocluster.csv\")"
   ]
  },
  {
   "cell_type": "code",
   "execution_count": 142,
   "metadata": {},
   "outputs": [
    {
     "data": {
      "text/html": [
       "<div>\n",
       "<style scoped>\n",
       "    .dataframe tbody tr th:only-of-type {\n",
       "        vertical-align: middle;\n",
       "    }\n",
       "\n",
       "    .dataframe tbody tr th {\n",
       "        vertical-align: top;\n",
       "    }\n",
       "\n",
       "    .dataframe thead th {\n",
       "        text-align: right;\n",
       "    }\n",
       "</style>\n",
       "<table border=\"1\" class=\"dataframe\">\n",
       "  <thead>\n",
       "    <tr style=\"text-align: right;\">\n",
       "      <th></th>\n",
       "      <th>Unnamed: 0</th>\n",
       "      <th>Unnamed: 0.1</th>\n",
       "      <th>name</th>\n",
       "      <th>address</th>\n",
       "      <th>city</th>\n",
       "      <th>state</th>\n",
       "      <th>postal_code</th>\n",
       "      <th>latitude</th>\n",
       "      <th>longitude</th>\n",
       "      <th>text</th>\n",
       "      <th>date</th>\n",
       "      <th>score</th>\n",
       "      <th>cluster</th>\n",
       "    </tr>\n",
       "  </thead>\n",
       "  <tbody>\n",
       "    <tr>\n",
       "      <td>6</td>\n",
       "      <td>2075</td>\n",
       "      <td>2075</td>\n",
       "      <td>Chipotle Mexican Grill</td>\n",
       "      <td>3475 Las Vegas Blvd S</td>\n",
       "      <td>Las Vegas</td>\n",
       "      <td>NV</td>\n",
       "      <td>89109.0</td>\n",
       "      <td>0.289235</td>\n",
       "      <td>0.007368</td>\n",
       "      <td>Just ate here and got super sick. There must h...</td>\n",
       "      <td>2017-08-18 02:16:18</td>\n",
       "      <td>0.999715</td>\n",
       "      <td>2</td>\n",
       "    </tr>\n",
       "    <tr>\n",
       "      <td>34</td>\n",
       "      <td>9498</td>\n",
       "      <td>9498</td>\n",
       "      <td>Fuku Burger Chinatown</td>\n",
       "      <td>3429 S Jones Blvd</td>\n",
       "      <td>Las Vegas</td>\n",
       "      <td>NV</td>\n",
       "      <td>89146.0</td>\n",
       "      <td>0.289888</td>\n",
       "      <td>0.005872</td>\n",
       "      <td>My bf and I were so excited to try this place ...</td>\n",
       "      <td>2017-07-29 10:22:44</td>\n",
       "      <td>1.000000</td>\n",
       "      <td>2</td>\n",
       "    </tr>\n",
       "    <tr>\n",
       "      <td>39</td>\n",
       "      <td>10588</td>\n",
       "      <td>10588</td>\n",
       "      <td>McDonald's</td>\n",
       "      <td>2550 E Sunset Rd</td>\n",
       "      <td>Las Vegas</td>\n",
       "      <td>NV</td>\n",
       "      <td>89120.0</td>\n",
       "      <td>0.284435</td>\n",
       "      <td>0.008943</td>\n",
       "      <td>Don't go. This place will give u food poisonin...</td>\n",
       "      <td>2017-03-27 13:44:20</td>\n",
       "      <td>0.963269</td>\n",
       "      <td>2</td>\n",
       "    </tr>\n",
       "    <tr>\n",
       "      <td>40</td>\n",
       "      <td>10810</td>\n",
       "      <td>10810</td>\n",
       "      <td>Subway</td>\n",
       "      <td>7377 S Jones Blvd, Ste 105</td>\n",
       "      <td>Las Vegas</td>\n",
       "      <td>NV</td>\n",
       "      <td>89139.0</td>\n",
       "      <td>0.282769</td>\n",
       "      <td>0.005855</td>\n",
       "      <td>My boyfriend just got the worst food poisoning...</td>\n",
       "      <td>2017-04-19 17:31:51</td>\n",
       "      <td>0.992672</td>\n",
       "      <td>2</td>\n",
       "    </tr>\n",
       "    <tr>\n",
       "      <td>53</td>\n",
       "      <td>19779</td>\n",
       "      <td>19779</td>\n",
       "      <td>Lazy Dog Restaurant &amp; Bar</td>\n",
       "      <td>6509 Las Vegas Blvd S</td>\n",
       "      <td>Las Vegas</td>\n",
       "      <td>NV</td>\n",
       "      <td>89119.0</td>\n",
       "      <td>0.284257</td>\n",
       "      <td>0.007310</td>\n",
       "      <td>LAZY DOG DOES NOT CARE ABOUT YOUR PETS. \\nThey...</td>\n",
       "      <td>2017-06-29 18:21:29</td>\n",
       "      <td>0.709490</td>\n",
       "      <td>2</td>\n",
       "    </tr>\n",
       "    <tr>\n",
       "      <td>...</td>\n",
       "      <td>...</td>\n",
       "      <td>...</td>\n",
       "      <td>...</td>\n",
       "      <td>...</td>\n",
       "      <td>...</td>\n",
       "      <td>...</td>\n",
       "      <td>...</td>\n",
       "      <td>...</td>\n",
       "      <td>...</td>\n",
       "      <td>...</td>\n",
       "      <td>...</td>\n",
       "      <td>...</td>\n",
       "      <td>...</td>\n",
       "    </tr>\n",
       "    <tr>\n",
       "      <td>12162</td>\n",
       "      <td>4642494</td>\n",
       "      <td>4642496</td>\n",
       "      <td>Phil's Italian Steak House</td>\n",
       "      <td>3300 Las Vegas Blvd S</td>\n",
       "      <td>Las Vegas</td>\n",
       "      <td>NV</td>\n",
       "      <td>89136.0</td>\n",
       "      <td>0.289681</td>\n",
       "      <td>0.007349</td>\n",
       "      <td>Honestly... I never in my life felt more discr...</td>\n",
       "      <td>2017-09-06 12:52:56</td>\n",
       "      <td>0.716413</td>\n",
       "      <td>2</td>\n",
       "    </tr>\n",
       "    <tr>\n",
       "      <td>12173</td>\n",
       "      <td>4647352</td>\n",
       "      <td>4647354</td>\n",
       "      <td>Sushi Kaya</td>\n",
       "      <td>4355 Spring Mountain Rd, Ste 101B</td>\n",
       "      <td>Las Vegas</td>\n",
       "      <td>NV</td>\n",
       "      <td>89102.0</td>\n",
       "      <td>0.289815</td>\n",
       "      <td>0.006632</td>\n",
       "      <td>This was my favorite sushi restaurant for the ...</td>\n",
       "      <td>2017-05-12 21:58:29</td>\n",
       "      <td>1.000000</td>\n",
       "      <td>2</td>\n",
       "    </tr>\n",
       "    <tr>\n",
       "      <td>12202</td>\n",
       "      <td>4656596</td>\n",
       "      <td>4656598</td>\n",
       "      <td>Papaya King</td>\n",
       "      <td>4503 Paradise Rd</td>\n",
       "      <td>Las Vegas</td>\n",
       "      <td>NV</td>\n",
       "      <td>89169.0</td>\n",
       "      <td>0.288001</td>\n",
       "      <td>0.007890</td>\n",
       "      <td>Food poisoning!! After eating the most disappo...</td>\n",
       "      <td>2017-08-27 21:16:29</td>\n",
       "      <td>0.950204</td>\n",
       "      <td>2</td>\n",
       "    </tr>\n",
       "    <tr>\n",
       "      <td>12209</td>\n",
       "      <td>4659787</td>\n",
       "      <td>4659789</td>\n",
       "      <td>Chayo Mexican Kitchen + Tequila Bar</td>\n",
       "      <td>3545 S Las Vegas Blvd</td>\n",
       "      <td>Las Vegas</td>\n",
       "      <td>NV</td>\n",
       "      <td>89109.0</td>\n",
       "      <td>0.289000</td>\n",
       "      <td>0.007369</td>\n",
       "      <td>Wow. Greeted after sitting for about 15 mins ,...</td>\n",
       "      <td>2017-06-15 03:35:30</td>\n",
       "      <td>0.621166</td>\n",
       "      <td>2</td>\n",
       "    </tr>\n",
       "    <tr>\n",
       "      <td>12214</td>\n",
       "      <td>4661920</td>\n",
       "      <td>4661922</td>\n",
       "      <td>See's Candies</td>\n",
       "      <td>10300 W Charleston Blvd</td>\n",
       "      <td>Las Vegas</td>\n",
       "      <td>NV</td>\n",
       "      <td>89135.0</td>\n",
       "      <td>0.293276</td>\n",
       "      <td>0.003207</td>\n",
       "      <td>I'm sick, and when I'm sick I want candy. I do...</td>\n",
       "      <td>2017-09-08 19:40:38</td>\n",
       "      <td>0.731392</td>\n",
       "      <td>2</td>\n",
       "    </tr>\n",
       "  </tbody>\n",
       "</table>\n",
       "<p>693 rows × 13 columns</p>\n",
       "</div>"
      ],
      "text/plain": [
       "       Unnamed: 0  Unnamed: 0.1                                 name  \\\n",
       "6            2075          2075               Chipotle Mexican Grill   \n",
       "34           9498          9498                Fuku Burger Chinatown   \n",
       "39          10588         10588                           McDonald's   \n",
       "40          10810         10810                               Subway   \n",
       "53          19779         19779            Lazy Dog Restaurant & Bar   \n",
       "...           ...           ...                                  ...   \n",
       "12162     4642494       4642496           Phil's Italian Steak House   \n",
       "12173     4647352       4647354                           Sushi Kaya   \n",
       "12202     4656596       4656598                          Papaya King   \n",
       "12209     4659787       4659789  Chayo Mexican Kitchen + Tequila Bar   \n",
       "12214     4661920       4661922                        See's Candies   \n",
       "\n",
       "                                 address       city state  postal_code  \\\n",
       "6                  3475 Las Vegas Blvd S  Las Vegas    NV      89109.0   \n",
       "34                     3429 S Jones Blvd  Las Vegas    NV      89146.0   \n",
       "39                      2550 E Sunset Rd  Las Vegas    NV      89120.0   \n",
       "40            7377 S Jones Blvd, Ste 105  Las Vegas    NV      89139.0   \n",
       "53                 6509 Las Vegas Blvd S  Las Vegas    NV      89119.0   \n",
       "...                                  ...        ...   ...          ...   \n",
       "12162              3300 Las Vegas Blvd S  Las Vegas    NV      89136.0   \n",
       "12173  4355 Spring Mountain Rd, Ste 101B  Las Vegas    NV      89102.0   \n",
       "12202                   4503 Paradise Rd  Las Vegas    NV      89169.0   \n",
       "12209              3545 S Las Vegas Blvd  Las Vegas    NV      89109.0   \n",
       "12214            10300 W Charleston Blvd  Las Vegas    NV      89135.0   \n",
       "\n",
       "       latitude  longitude                                               text  \\\n",
       "6      0.289235   0.007368  Just ate here and got super sick. There must h...   \n",
       "34     0.289888   0.005872  My bf and I were so excited to try this place ...   \n",
       "39     0.284435   0.008943  Don't go. This place will give u food poisonin...   \n",
       "40     0.282769   0.005855  My boyfriend just got the worst food poisoning...   \n",
       "53     0.284257   0.007310  LAZY DOG DOES NOT CARE ABOUT YOUR PETS. \\nThey...   \n",
       "...         ...        ...                                                ...   \n",
       "12162  0.289681   0.007349  Honestly... I never in my life felt more discr...   \n",
       "12173  0.289815   0.006632  This was my favorite sushi restaurant for the ...   \n",
       "12202  0.288001   0.007890  Food poisoning!! After eating the most disappo...   \n",
       "12209  0.289000   0.007369  Wow. Greeted after sitting for about 15 mins ,...   \n",
       "12214  0.293276   0.003207  I'm sick, and when I'm sick I want candy. I do...   \n",
       "\n",
       "                     date     score  cluster  \n",
       "6     2017-08-18 02:16:18  0.999715        2  \n",
       "34    2017-07-29 10:22:44  1.000000        2  \n",
       "39    2017-03-27 13:44:20  0.963269        2  \n",
       "40    2017-04-19 17:31:51  0.992672        2  \n",
       "53    2017-06-29 18:21:29  0.709490        2  \n",
       "...                   ...       ...      ...  \n",
       "12162 2017-09-06 12:52:56  0.716413        2  \n",
       "12173 2017-05-12 21:58:29  1.000000        2  \n",
       "12202 2017-08-27 21:16:29  0.950204        2  \n",
       "12209 2017-06-15 03:35:30  0.621166        2  \n",
       "12214 2017-09-08 19:40:38  0.731392        2  \n",
       "\n",
       "[693 rows x 13 columns]"
      ]
     },
     "execution_count": 142,
     "metadata": {},
     "output_type": "execute_result"
    }
   ],
   "source": [
    "b = df[df['cluster']==2]\n",
    "b"
   ]
  },
  {
   "cell_type": "code",
   "execution_count": 143,
   "metadata": {},
   "outputs": [
    {
     "name": "stdout",
     "output_type": "stream",
     "text": [
      "2017-02-05 20:20:44\n",
      "2017-09-30 04:18:14\n"
     ]
    }
   ],
   "source": [
    "print(b['date'].min())\n",
    "print(b['date'].max())"
   ]
  },
  {
   "cell_type": "code",
   "execution_count": null,
   "metadata": {},
   "outputs": [],
   "source": []
  }
 ],
 "metadata": {
  "kernelspec": {
   "display_name": "Python 3",
   "language": "python",
   "name": "python3"
  },
  "language_info": {
   "codemirror_mode": {
    "name": "ipython",
    "version": 3
   },
   "file_extension": ".py",
   "mimetype": "text/x-python",
   "name": "python",
   "nbconvert_exporter": "python",
   "pygments_lexer": "ipython3",
   "version": "3.7.4"
  }
 },
 "nbformat": 4,
 "nbformat_minor": 2
}
