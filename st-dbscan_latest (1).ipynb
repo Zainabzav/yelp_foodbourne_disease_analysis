{
 "cells": [
  {
   "cell_type": "code",
   "execution_count": 1,
   "metadata": {},
   "outputs": [
    {
     "name": "stdout",
     "output_type": "stream",
     "text": [
      "Requirement already satisfied: ST_DBSCAN in /Users/zainabazizzaveri/opt/anaconda3/lib/python3.7/site-packages (0.1.2)\n",
      "Requirement already satisfied: numpy>=1.16.4 in /Users/zainabazizzaveri/opt/anaconda3/lib/python3.7/site-packages (from ST_DBSCAN) (1.17.2)\n",
      "Note: you may need to restart the kernel to use updated packages.\n"
     ]
    }
   ],
   "source": [
    "pip install ST_DBSCAN"
   ]
  },
  {
   "cell_type": "code",
   "execution_count": 3,
   "metadata": {},
   "outputs": [],
   "source": [
    "%matplotlib inline\n",
    "import ipywidgets\n",
    "import numpy as np \n",
    "import pandas as pd\n",
    "import matplotlib.pyplot as plt\n",
    "from st_dbscan import ST_DBSCAN\n",
    "import matplotlib.colors as mpl_colors\n",
    "\n",
    "\n",
    "DATA = pd.read_csv(\"sick_reviews.csv\")\n",
    "DATA.head()\n",
    "df_X = DATA[['latitude','longitude']]\n",
    "df_X.to_csv('latlong.csv')"
   ]
  },
  {
   "cell_type": "code",
   "execution_count": 4,
   "metadata": {},
   "outputs": [
    {
     "data": {
      "text/plain": [
       "0       2012-12-06 17:14:21\n",
       "1       2016-05-20 05:40:25\n",
       "2       2012-06-30 18:32:20\n",
       "3       2014-05-27 01:07:26\n",
       "4       2016-09-06 05:46:17\n",
       "                ...        \n",
       "12219   2011-10-24 04:09:23\n",
       "12220   2016-11-21 13:52:13\n",
       "12221   2018-10-21 04:16:42\n",
       "12222   2017-11-05 00:31:29\n",
       "12223   2018-07-06 22:55:33\n",
       "Name: date, Length: 12224, dtype: datetime64[ns]"
      ]
     },
     "execution_count": 4,
     "metadata": {},
     "output_type": "execute_result"
    }
   ],
   "source": [
    "from datetime import datetime\n",
    "df = pd.DataFrame()\n",
    "df = DATA\n",
    "date = pd.to_datetime(df['date'])\n",
    "date"
   ]
  },
  {
   "cell_type": "code",
   "execution_count": 5,
   "metadata": {},
   "outputs": [
    {
     "name": "stdout",
     "output_type": "stream",
     "text": [
      "2005-12-28 20:28:33\n",
      "2018-11-14 15:28:32\n",
      "0       2534 days 20:45:48\n",
      "1       3795 days 09:11:52\n",
      "2       2375 days 22:03:47\n",
      "3       3071 days 04:38:53\n",
      "4       3904 days 09:17:44\n",
      "               ...        \n",
      "12219   2125 days 07:40:50\n",
      "12220   3980 days 17:23:40\n",
      "12221   4679 days 07:48:09\n",
      "12222   4329 days 04:02:56\n",
      "12223   4573 days 02:27:00\n",
      "Name: date, Length: 12224, dtype: timedelta64[ns]\n",
      "4703 days 18:59:59\n"
     ]
    }
   ],
   "source": [
    "df['date'] = date\n",
    "print(df['date'].min())\n",
    "print(df['date'].max())\n",
    "print(df['date'] - df['date'].min())\n",
    "print((df['date'].max() - df['date'].min()))\n",
    "\n",
    "\n"
   ]
  },
  {
   "cell_type": "code",
   "execution_count": 6,
   "metadata": {},
   "outputs": [
    {
     "data": {
      "text/plain": [
       "Unnamed: 0               int64\n",
       "Unnamed: 0.1             int64\n",
       "name                    object\n",
       "address                 object\n",
       "city                    object\n",
       "state                   object\n",
       "postal_code            float64\n",
       "latitude               float64\n",
       "longitude              float64\n",
       "text                    object\n",
       "date            datetime64[ns]\n",
       "score                  float64\n",
       "dtype: object"
      ]
     },
     "execution_count": 6,
     "metadata": {},
     "output_type": "execute_result"
    }
   ],
   "source": [
    "df.dtypes"
   ]
  },
  {
   "cell_type": "code",
   "execution_count": 7,
   "metadata": {},
   "outputs": [
    {
     "name": "stdout",
     "output_type": "stream",
     "text": [
      "33.2178145\n",
      "43.252157700000005\n",
      "10.034343200000002\n",
      "-115.4354310036\n",
      "-79.65014920000002\n"
     ]
    }
   ],
   "source": [
    "print(df['latitude'].min())\n",
    "print(df['latitude'].max())\n",
    "print((df['latitude'].max() - df['latitude'].min()))\n",
    "print(df['longitude'].min())\n",
    "print(df['longitude'].max())"
   ]
  },
  {
   "cell_type": "code",
   "execution_count": 8,
   "metadata": {},
   "outputs": [
    {
     "name": "stdout",
     "output_type": "stream",
     "text": [
      "Requirement already satisfied: geopy in /Users/zainabazizzaveri/opt/anaconda3/lib/python3.7/site-packages (1.21.0)\n",
      "Requirement already satisfied: geographiclib<2,>=1.49 in /Users/zainabazizzaveri/opt/anaconda3/lib/python3.7/site-packages (from geopy) (1.50)\n",
      "Note: you may need to restart the kernel to use updated packages.\n"
     ]
    }
   ],
   "source": [
    "pip install geopy"
   ]
  },
  {
   "cell_type": "code",
   "execution_count": 9,
   "metadata": {},
   "outputs": [
    {
     "name": "stdout",
     "output_type": "stream",
     "text": [
      "3295.434593709583\n"
     ]
    },
    {
     "name": "stderr",
     "output_type": "stream",
     "text": [
      "/Users/zainabazizzaveri/opt/anaconda3/lib/python3.7/site-packages/ipykernel_launcher.py:6: DeprecationWarning: Vincenty is deprecated and is going to be removed in geopy 2.0. Use `geopy.distance.geodesic` (or the default `geopy.distance.distance`) instead, which is more accurate and always converges.\n",
      "  \n"
     ]
    }
   ],
   "source": [
    "import geopy.distance\n",
    "\n",
    "coords_1 = (33.2178145,-115.4354310036 )\n",
    "coords_2 = (43.252157700000005, -79.65014920000002)\n",
    "\n",
    "print(geopy.distance.vincenty(coords_1, coords_2).km)"
   ]
  },
  {
   "cell_type": "code",
   "execution_count": 113,
   "metadata": {},
   "outputs": [],
   "source": [
    "# normalize the data\n",
    "df['latitude'] = (df['latitude'] - df['latitude'].min()) / (df['latitude'].max() - df['latitude'].min())"
   ]
  },
  {
   "cell_type": "code",
   "execution_count": 114,
   "metadata": {},
   "outputs": [],
   "source": [
    "df['longitude'] = (df['longitude'] - df['longitude'].min()) / (df['longitude'].max() - df['longitude'].min())"
   ]
  },
  {
   "cell_type": "code",
   "execution_count": 115,
   "metadata": {},
   "outputs": [],
   "source": [
    "df['date'] = (df['date'] - df['date'].min()) / (df['date'].max() - df['date'].min())"
   ]
  },
  {
   "cell_type": "code",
   "execution_count": 13,
   "metadata": {},
   "outputs": [],
   "source": [
    "# transform to numpy array\n",
    "data = df.loc[:, ['date','latitude','longitude']].values"
   ]
  },
  {
   "cell_type": "code",
   "execution_count": 125,
   "metadata": {},
   "outputs": [
    {
     "data": {
      "text/plain": [
       "70.94167366431509"
      ]
     },
     "execution_count": 125,
     "metadata": {},
     "output_type": "execute_result"
    }
   ],
   "source": [
    "import math\n",
    "n = 7099\n",
    "min_samples = 8*math.log(n)\n",
    "min_samples"
   ]
  },
  {
   "cell_type": "code",
   "execution_count": 162,
   "metadata": {},
   "outputs": [],
   "source": [
    "st_dbscan = ST_DBSCAN(eps1 = 0.05, eps2 = 0.00063789, min_samples = 9) \n",
    "# for list of all parameter description see - src code comments"
   ]
  },
  {
   "cell_type": "code",
   "execution_count": 163,
   "metadata": {},
   "outputs": [
    {
     "data": {
      "text/plain": [
       "<st_dbscan.st_dbscan.ST_DBSCAN at 0x1a27806a50>"
      ]
     },
     "execution_count": 163,
     "metadata": {},
     "output_type": "execute_result"
    }
   ],
   "source": [
    "st_dbscan.fit(data)"
   ]
  },
  {
   "cell_type": "code",
   "execution_count": 164,
   "metadata": {},
   "outputs": [
    {
     "data": {
      "image/png": "[encoded data removed]",
      "text/plain": [
       "<Figure size 432x288 with 1 Axes>"
      ]
     },
     "metadata": {
      "needs_background": "light"
     },
     "output_type": "display_data"
    }
   ],
   "source": [
    "def plot(data, labels):\n",
    "    colors = ['#a6cee3','#1f78b4','#b2df8a','#33a02c','#fb9a99','#e31a1c','#fdbf6f','#ff7f00','#cab2d6','#6a3d9a']\n",
    "    \n",
    "    for i in range(-1, len(set(labels))):\n",
    "        if i == -1:\n",
    "            col = [0, 0, 0, 1]\n",
    "        else:\n",
    "            col = colors[i % len(colors)]\n",
    "        \n",
    "        clust = data[np.where(labels==i)]\n",
    "        plt.scatter(clust[:,0], clust[:,1], c=[col], s=1)\n",
    "    plt.show()\n",
    "\n",
    "    return None\n",
    "\n",
    "plot(data[:,1:], st_dbscan.labels)"
   ]
  },
  {
   "cell_type": "code",
   "execution_count": 165,
   "metadata": {},
   "outputs": [
    {
     "data": {
      "text/plain": [
       "array([ -1,   0,   1,   2,   3,   4,   5,   6, 126,   7,  38,   8,   9,\n",
       "        10,  11,  12,  13,  14,  15,  16,  17,  18,  19,  20,  21,  22,\n",
       "        23,  24,  25,  26,  27,  28,  29,  30,  31, 100, 119,  42,  32,\n",
       "        33,  67,  79,  34,  35,  36,  37,  39,  40,  72, 116,  89,  41,\n",
       "       113,  43,  44,  45,  46,  90,  62,  47,  48,  96,  49,  50,  51,\n",
       "        52,  53,  64,  78,  58,  86,  54,  55,  56,  57, 114,  59,  60,\n",
       "        61, 115,  81,  76,  63, 117,  65, 124, 105,  66,  68,  77,  69,\n",
       "       120,  70,  71,  73,  74,  75, 103,  98, 128, 118, 102,  80,  82,\n",
       "        83,  84,  94,  85, 129, 121,  88,  93,  87, 123,  91, 104, 127,\n",
       "       122,  92, 101,  95,  97, 111, 106,  99, 112, 130, 109, 107, 108,\n",
       "       110, 125])"
      ]
     },
     "execution_count": 165,
     "metadata": {},
     "output_type": "execute_result"
    }
   ],
   "source": [
    "df['cluster'] = st_dbscan.labels.tolist()\n",
    "df['cluster'].unique()"
   ]
  },
  {
   "cell_type": "code",
   "execution_count": 166,
   "metadata": {},
   "outputs": [],
   "source": [
    "df['date'] = date"
   ]
  },
  {
   "cell_type": "code",
   "execution_count": 167,
   "metadata": {},
   "outputs": [
    {
     "data": {
      "text/plain": [
       "<Figure size 432x288 with 0 Axes>"
      ]
     },
     "metadata": {},
     "output_type": "display_data"
    },
    {
     "data": {
      "application/vnd.jupyter.widget-view+json": {
       "model_id": "3f4972b4e1fb48dcbea6942aab272c57",
       "version_major": 2,
       "version_minor": 0
      },
      "text/plain": [
       "interactive(children=(Dropdown(description='x', index=5, options=('address', 'city', 'state', 'postal_code', '…"
      ]
     },
     "metadata": {},
     "output_type": "display_data"
    }
   ],
   "source": [
    "plt.clf()\n",
    "# This section filters out columns\n",
    "# Options to be removed are initializaed in tuples. Simply felt better because tuples are immutable.\n",
    "x_irrelevant_options = ('Unnamed: 0', 'Unnamed: 1', 'name')\n",
    "y_irrelevant_options = ('Unnamed: 0', 'Unnamed: 1', 'name')\n",
    "x_axis_options = [e for e in df.columns if e not in x_irrelevant_options]\n",
    "y_axis_options = [e for e in df.columns if e not in y_irrelevant_options]\n",
    "\n",
    "# This section generates the widget itself\n",
    "@ipywidgets.interact(x = x_axis_options, y= y_axis_options, colormap = plt.colormaps(),sym_log = True)\n",
    "def plot(x = 'longitude',y = 'latitude', colormap = 'jet',sym_log = True):\n",
    "    if sym_log:\n",
    "        norm = mpl_colors.SymLogNorm(10)\n",
    "    else:\n",
    "        norm = mpl_colors.Normalize()\n",
    "        \n",
    "    fig, ax = plt.subplots(figsize=(16,9))\n",
    "    CAX = ax.scatter(df[x],df[y], cmap=colormap, norm = norm, c=(df['cluster']))\n",
    "    fig.suptitle('test', fontsize=23)\n",
    "    plt.xlabel(x, fontsize=18)\n",
    "    plt.ylabel(y, fontsize=18)\n",
    "    plt.colorbar(CAX, extend = 'both')\n",
    "    # Rotates the x-axis labels if they are object(s) like 'shape' or 'city' to promote readability\n",
    "    if df[x].dtype == 'object':\n",
    "        plt.xticks(rotation=90)\n",
    "    elif df[x].dtype == 'float64':\n",
    "        plt.xticks(rotation=0)\n",
    "\n",
    "    plt.show()"
   ]
  },
  {
   "cell_type": "code",
   "execution_count": 168,
   "metadata": {},
   "outputs": [
    {
     "data": {
      "text/html": [
       "<div>\n",
       "<style scoped>\n",
       "    .dataframe tbody tr th:only-of-type {\n",
       "        vertical-align: middle;\n",
       "    }\n",
       "\n",
       "    .dataframe tbody tr th {\n",
       "        vertical-align: top;\n",
       "    }\n",
       "\n",
       "    .dataframe thead tr th {\n",
       "        text-align: left;\n",
       "    }\n",
       "\n",
       "    .dataframe thead tr:last-of-type th {\n",
       "        text-align: right;\n",
       "    }\n",
       "</style>\n",
       "<table border=\"1\" class=\"dataframe\">\n",
       "  <thead>\n",
       "    <tr>\n",
       "      <th></th>\n",
       "      <th>cluster</th>\n",
       "      <th colspan=\"2\" halign=\"left\">date</th>\n",
       "      <th colspan=\"2\" halign=\"left\">state</th>\n",
       "    </tr>\n",
       "    <tr>\n",
       "      <th></th>\n",
       "      <th>count</th>\n",
       "      <th>min</th>\n",
       "      <th>max</th>\n",
       "      <th>min</th>\n",
       "      <th>max</th>\n",
       "    </tr>\n",
       "    <tr>\n",
       "      <th>cluster</th>\n",
       "      <th></th>\n",
       "      <th></th>\n",
       "      <th></th>\n",
       "      <th></th>\n",
       "      <th></th>\n",
       "    </tr>\n",
       "  </thead>\n",
       "  <tbody>\n",
       "    <tr>\n",
       "      <td>-1</td>\n",
       "      <td>4172</td>\n",
       "      <td>2005-12-28 20:28:33</td>\n",
       "      <td>2018-11-14 15:28:32</td>\n",
       "      <td>AZ</td>\n",
       "      <td>WI</td>\n",
       "    </tr>\n",
       "    <tr>\n",
       "      <td>0</td>\n",
       "      <td>114</td>\n",
       "      <td>2016-04-14 04:21:09</td>\n",
       "      <td>2016-06-01 04:36:01</td>\n",
       "      <td>AZ</td>\n",
       "      <td>AZ</td>\n",
       "    </tr>\n",
       "    <tr>\n",
       "      <td>1</td>\n",
       "      <td>31</td>\n",
       "      <td>2014-05-24 15:20:26</td>\n",
       "      <td>2014-06-12 02:20:54</td>\n",
       "      <td>AZ</td>\n",
       "      <td>AZ</td>\n",
       "    </tr>\n",
       "    <tr>\n",
       "      <td>2</td>\n",
       "      <td>69</td>\n",
       "      <td>2016-08-28 17:04:02</td>\n",
       "      <td>2016-09-29 01:41:51</td>\n",
       "      <td>AZ</td>\n",
       "      <td>AZ</td>\n",
       "    </tr>\n",
       "    <tr>\n",
       "      <td>3</td>\n",
       "      <td>693</td>\n",
       "      <td>2017-02-05 20:20:44</td>\n",
       "      <td>2017-09-30 04:18:14</td>\n",
       "      <td>NV</td>\n",
       "      <td>NV</td>\n",
       "    </tr>\n",
       "    <tr>\n",
       "      <td>...</td>\n",
       "      <td>...</td>\n",
       "      <td>...</td>\n",
       "      <td>...</td>\n",
       "      <td>...</td>\n",
       "      <td>...</td>\n",
       "    </tr>\n",
       "    <tr>\n",
       "      <td>126</td>\n",
       "      <td>7</td>\n",
       "      <td>2016-10-02 23:24:00</td>\n",
       "      <td>2016-10-06 23:01:19</td>\n",
       "      <td>AZ</td>\n",
       "      <td>AZ</td>\n",
       "    </tr>\n",
       "    <tr>\n",
       "      <td>127</td>\n",
       "      <td>9</td>\n",
       "      <td>2013-09-30 16:17:37</td>\n",
       "      <td>2013-10-05 06:00:52</td>\n",
       "      <td>AZ</td>\n",
       "      <td>AZ</td>\n",
       "    </tr>\n",
       "    <tr>\n",
       "      <td>128</td>\n",
       "      <td>12</td>\n",
       "      <td>2014-12-05 04:14:12</td>\n",
       "      <td>2014-12-12 09:37:24</td>\n",
       "      <td>NV</td>\n",
       "      <td>NV</td>\n",
       "    </tr>\n",
       "    <tr>\n",
       "      <td>129</td>\n",
       "      <td>9</td>\n",
       "      <td>2018-04-06 00:49:49</td>\n",
       "      <td>2018-04-11 23:34:48</td>\n",
       "      <td>NC</td>\n",
       "      <td>SC</td>\n",
       "    </tr>\n",
       "    <tr>\n",
       "      <td>130</td>\n",
       "      <td>9</td>\n",
       "      <td>2014-08-29 05:05:00</td>\n",
       "      <td>2014-09-03 15:27:04</td>\n",
       "      <td>AZ</td>\n",
       "      <td>AZ</td>\n",
       "    </tr>\n",
       "  </tbody>\n",
       "</table>\n",
       "<p>132 rows × 5 columns</p>\n",
       "</div>"
      ],
      "text/plain": [
       "        cluster                date                     state    \n",
       "          count                 min                 max   min max\n",
       "cluster                                                          \n",
       "-1         4172 2005-12-28 20:28:33 2018-11-14 15:28:32    AZ  WI\n",
       " 0          114 2016-04-14 04:21:09 2016-06-01 04:36:01    AZ  AZ\n",
       " 1           31 2014-05-24 15:20:26 2014-06-12 02:20:54    AZ  AZ\n",
       " 2           69 2016-08-28 17:04:02 2016-09-29 01:41:51    AZ  AZ\n",
       " 3          693 2017-02-05 20:20:44 2017-09-30 04:18:14    NV  NV\n",
       "...         ...                 ...                 ...   ...  ..\n",
       " 126          7 2016-10-02 23:24:00 2016-10-06 23:01:19    AZ  AZ\n",
       " 127          9 2013-09-30 16:17:37 2013-10-05 06:00:52    AZ  AZ\n",
       " 128         12 2014-12-05 04:14:12 2014-12-12 09:37:24    NV  NV\n",
       " 129          9 2018-04-06 00:49:49 2018-04-11 23:34:48    NC  SC\n",
       " 130          9 2014-08-29 05:05:00 2014-09-03 15:27:04    AZ  AZ\n",
       "\n",
       "[132 rows x 5 columns]"
      ]
     },
     "execution_count": 168,
     "metadata": {},
     "output_type": "execute_result"
    }
   ],
   "source": [
    "a = df.groupby('cluster').agg({'cluster':'count','date': ['min','max'], 'state':['min','max']})\n",
    "a"
   ]
  },
  {
   "cell_type": "code",
   "execution_count": 169,
   "metadata": {},
   "outputs": [],
   "source": [
    "a.to_csv(\"/Users/zainabazizzaveri/Downloads/tables/table0.05-3-9.csv\")"
   ]
  },
  {
   "cell_type": "code",
   "execution_count": null,
   "metadata": {},
   "outputs": [],
   "source": []
  }
 ],
 "metadata": {
  "kernelspec": {
   "display_name": "Python 3",
   "language": "python",
   "name": "python3"
  },
  "language_info": {
   "codemirror_mode": {
    "name": "ipython",
    "version": 3
   },
   "file_extension": ".py",
   "mimetype": "text/x-python",
   "name": "python",
   "nbconvert_exporter": "python",
   "pygments_lexer": "ipython3",
   "version": "3.7.4"
  }
 },
 "nbformat": 4,
 "nbformat_minor": 2
}
