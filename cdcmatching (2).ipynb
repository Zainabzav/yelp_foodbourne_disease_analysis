{
 "cells": [
  {
   "cell_type": "code",
   "execution_count": 107,
   "metadata": {},
   "outputs": [],
   "source": [
    "import pandas as pd\n",
    "import numpy as np"
   ]
  },
  {
   "cell_type": "markdown",
   "metadata": {},
   "source": [
    "Import the cdc.csv file from github, I have cleaned some data."
   ]
  },
  {
   "cell_type": "code",
   "execution_count": 108,
   "metadata": {},
   "outputs": [],
   "source": [
    "cdc = pd.read_csv(\"/Users/zainabazizzaveri/Downloads/cdc.csv\")"
   ]
  },
  {
   "cell_type": "code",
   "execution_count": 278,
   "metadata": {},
   "outputs": [
    {
     "data": {
      "text/html": [
       "<div>\n",
       "<style scoped>\n",
       "    .dataframe tbody tr th:only-of-type {\n",
       "        vertical-align: middle;\n",
       "    }\n",
       "\n",
       "    .dataframe tbody tr th {\n",
       "        vertical-align: top;\n",
       "    }\n",
       "\n",
       "    .dataframe thead th {\n",
       "        text-align: right;\n",
       "    }\n",
       "</style>\n",
       "<table border=\"1\" class=\"dataframe\">\n",
       "  <thead>\n",
       "    <tr style=\"text-align: right;\">\n",
       "      <th></th>\n",
       "      <th>Year</th>\n",
       "      <th>Month</th>\n",
       "      <th>State</th>\n",
       "      <th>Illnesses</th>\n",
       "      <th>Food Vehicle</th>\n",
       "    </tr>\n",
       "  </thead>\n",
       "  <tbody>\n",
       "    <tr>\n",
       "      <td>0</td>\n",
       "      <td>2017</td>\n",
       "      <td>1</td>\n",
       "      <td>NY</td>\n",
       "      <td>20</td>\n",
       "      <td>house salad; fish, baked flounder; broccoli, u...</td>\n",
       "    </tr>\n",
       "    <tr>\n",
       "      <td>1</td>\n",
       "      <td>2017</td>\n",
       "      <td>1</td>\n",
       "      <td>WI</td>\n",
       "      <td>7</td>\n",
       "      <td>NaN</td>\n",
       "    </tr>\n",
       "    <tr>\n",
       "      <td>2</td>\n",
       "      <td>2017</td>\n",
       "      <td>1</td>\n",
       "      <td>TN</td>\n",
       "      <td>10</td>\n",
       "      <td>NaN</td>\n",
       "    </tr>\n",
       "    <tr>\n",
       "      <td>3</td>\n",
       "      <td>2017</td>\n",
       "      <td>1</td>\n",
       "      <td>OH</td>\n",
       "      <td>14</td>\n",
       "      <td>NaN</td>\n",
       "    </tr>\n",
       "    <tr>\n",
       "      <td>4</td>\n",
       "      <td>2017</td>\n",
       "      <td>1</td>\n",
       "      <td>WI</td>\n",
       "      <td>35</td>\n",
       "      <td>NaN</td>\n",
       "    </tr>\n",
       "    <tr>\n",
       "      <td>...</td>\n",
       "      <td>...</td>\n",
       "      <td>...</td>\n",
       "      <td>...</td>\n",
       "      <td>...</td>\n",
       "      <td>...</td>\n",
       "    </tr>\n",
       "    <tr>\n",
       "      <td>20843</td>\n",
       "      <td>1998</td>\n",
       "      <td>1</td>\n",
       "      <td>OH</td>\n",
       "      <td>4</td>\n",
       "      <td>pizza, pepperoni</td>\n",
       "    </tr>\n",
       "    <tr>\n",
       "      <td>20844</td>\n",
       "      <td>1998</td>\n",
       "      <td>1</td>\n",
       "      <td>CA</td>\n",
       "      <td>4</td>\n",
       "      <td>stuffing, unspecified; sandwich, turkey</td>\n",
       "    </tr>\n",
       "    <tr>\n",
       "      <td>20845</td>\n",
       "      <td>1998</td>\n",
       "      <td>1</td>\n",
       "      <td>PA</td>\n",
       "      <td>17</td>\n",
       "      <td>NaN</td>\n",
       "    </tr>\n",
       "    <tr>\n",
       "      <td>20846</td>\n",
       "      <td>1998</td>\n",
       "      <td>8</td>\n",
       "      <td>HI</td>\n",
       "      <td>38</td>\n",
       "      <td>eggs, other</td>\n",
       "    </tr>\n",
       "    <tr>\n",
       "      <td>20853</td>\n",
       "      <td>1998</td>\n",
       "      <td>7</td>\n",
       "      <td>UT</td>\n",
       "      <td>10</td>\n",
       "      <td>ground beef, hamburger</td>\n",
       "    </tr>\n",
       "  </tbody>\n",
       "</table>\n",
       "<p>20440 rows × 5 columns</p>\n",
       "</div>"
      ],
      "text/plain": [
       "       Year  Month State  Illnesses  \\\n",
       "0      2017      1    NY         20   \n",
       "1      2017      1    WI          7   \n",
       "2      2017      1    TN         10   \n",
       "3      2017      1    OH         14   \n",
       "4      2017      1    WI         35   \n",
       "...     ...    ...   ...        ...   \n",
       "20843  1998      1    OH          4   \n",
       "20844  1998      1    CA          4   \n",
       "20845  1998      1    PA         17   \n",
       "20846  1998      8    HI         38   \n",
       "20853  1998      7    UT         10   \n",
       "\n",
       "                                            Food Vehicle  \n",
       "0      house salad; fish, baked flounder; broccoli, u...  \n",
       "1                                                    NaN  \n",
       "2                                                    NaN  \n",
       "3                                                    NaN  \n",
       "4                                                    NaN  \n",
       "...                                                  ...  \n",
       "20843                                   pizza, pepperoni  \n",
       "20844            stuffing, unspecified; sandwich, turkey  \n",
       "20845                                                NaN  \n",
       "20846                                        eggs, other  \n",
       "20853                             ground beef, hamburger  \n",
       "\n",
       "[20440 rows x 5 columns]"
      ]
     },
     "execution_count": 278,
     "metadata": {},
     "output_type": "execute_result"
    }
   ],
   "source": [
    "cdc1=cdc.drop(['Primary Mode','Etiology', 'Serotype or Genotype', 'Etiology Status','Setting','Hospitalizations'],axis=1)\n",
    "cdc1 =cdc1.drop(['Info on Hospitalizations','Deaths','Info on Deaths','Food Contaminated Ingredient','IFSAC Category','Water Exposure','Water Type','Animal Type','Water Status','Animal Type Specify'],axis=1)\n",
    "cdc1 = cdc1[cdc1.State !='Multistate']\n",
    "cdc1"
   ]
  },
  {
   "cell_type": "code",
   "execution_count": 279,
   "metadata": {
    "scrolled": true
   },
   "outputs": [
    {
     "name": "stderr",
     "output_type": "stream",
     "text": [
      "/Users/zainabazizzaveri/opt/anaconda3/lib/python3.7/site-packages/ipykernel_launcher.py:2: SettingWithCopyWarning: \n",
      "A value is trying to be set on a copy of a slice from a DataFrame.\n",
      "Try using .loc[row_indexer,col_indexer] = value instead\n",
      "\n",
      "See the caveats in the documentation: http://pandas.pydata.org/pandas-docs/stable/user_guide/indexing.html#returning-a-view-versus-a-copy\n",
      "  \n",
      "/Users/zainabazizzaveri/opt/anaconda3/lib/python3.7/site-packages/ipykernel_launcher.py:3: SettingWithCopyWarning: \n",
      "A value is trying to be set on a copy of a slice from a DataFrame.\n",
      "Try using .loc[row_indexer,col_indexer] = value instead\n",
      "\n",
      "See the caveats in the documentation: http://pandas.pydata.org/pandas-docs/stable/user_guide/indexing.html#returning-a-view-versus-a-copy\n",
      "  This is separate from the ipykernel package so we can avoid doing imports until\n",
      "/Users/zainabazizzaveri/opt/anaconda3/lib/python3.7/site-packages/ipykernel_launcher.py:4: SettingWithCopyWarning: \n",
      "A value is trying to be set on a copy of a slice from a DataFrame.\n",
      "Try using .loc[row_indexer,col_indexer] = value instead\n",
      "\n",
      "See the caveats in the documentation: http://pandas.pydata.org/pandas-docs/stable/user_guide/indexing.html#returning-a-view-versus-a-copy\n",
      "  after removing the cwd from sys.path.\n"
     ]
    }
   ],
   "source": [
    "cdc1 = cdc1.drop_duplicates(['Year','Month','State','Illnesses','Food Vehicle'],keep= 'last')\n",
    "cdc1['str_year'] = cdc1['Year'].astype(str)\n",
    "cdc1['str_month'] = cdc1['Month'].astype(str)\n",
    "cdc1['conc'] = cdc1['str_year'] + cdc1['str_month'] + cdc1['State']\n",
    "#cdc1.loc[cdc1['conc']== '20164AZ']"
   ]
  },
  {
   "cell_type": "markdown",
   "metadata": {},
   "source": [
    "Give path to the table generated by the DBSCAN noteboook"
   ]
  },
  {
   "cell_type": "code",
   "execution_count": 243,
   "metadata": {},
   "outputs": [],
   "source": [
    "tab1 = pd.read_csv(\"/Users/zainabazizzaveri/Downloads/tables/table0.05-3-9.csv\")"
   ]
  },
  {
   "cell_type": "code",
   "execution_count": 281,
   "metadata": {},
   "outputs": [],
   "source": [
    "y = tab1.rename(columns={\"Unnamed: 0\": \"Cluster_Number\", \"cluster\": \"size_of_clust\", \"date\": \"start_date\", \"date.1\":\"end_date\"}, errors=\"raise\")"
   ]
  },
  {
   "cell_type": "code",
   "execution_count": 282,
   "metadata": {},
   "outputs": [],
   "source": [
    "x= y.drop([0,1])\n",
    "date = pd.to_datetime(x['start_date'])\n",
    "x['start_date'] = date\n",
    "date = pd.to_datetime(x['end_date'])\n",
    "x['end_date'] = date\n",
    "x[\"s_month\"] = x['start_date'].map(lambda x: x.month)\n",
    "x['str_s_month'] = x['s_month'].astype(str)\n",
    "x[\"s_year\"] = x['start_date'].map(lambda x: x.year)\n",
    "x['str_s_year'] = x['s_year'].astype(str)\n",
    "x[\"e_month\"] = x['end_date'].map(lambda x: x.month)\n",
    "x['str_e_month'] = x['e_month'].astype(str)\n",
    "x[\"e_year\"] = x['end_date'].map(lambda x: x.year)\n",
    "x['str_e_year'] = x['e_year'].astype(str)\n",
    "x =x.drop(['start_date','end_date'],axis=1)"
   ]
  },
  {
   "cell_type": "code",
   "execution_count": 283,
   "metadata": {},
   "outputs": [],
   "source": [
    "x['diff'] = x['e_year']-x['s_year']\n",
    "x['valid'] = x['diff'].apply(lambda y: 1 if y<=1 else 0)\n",
    "x = x[x.valid != 0]"
   ]
  },
  {
   "cell_type": "code",
   "execution_count": 284,
   "metadata": {
    "scrolled": true
   },
   "outputs": [],
   "source": [
    "x['conc1'] = x['str_s_year'] + x['str_s_month'] + x['state']\n",
    "x['conc2'] = x['str_s_year'] + x['str_s_month'] + x['state.1']\n",
    "x['conc3'] = x['str_e_year'] + x['str_e_month'] + x['state']\n",
    "x['conc4'] = x['str_e_year'] + x['str_e_month'] + x['state.1']"
   ]
  },
  {
   "cell_type": "code",
   "execution_count": 285,
   "metadata": {},
   "outputs": [],
   "source": [
    "x['r1'] = x['conc1'].isin(cdc1['conc'])\n",
    "x['r2'] = x['conc2'].isin(cdc1['conc'])\n",
    "x['r3'] = x['conc3'].isin(cdc1['conc'])\n",
    "x['r4'] = x['conc4'].isin(cdc1['conc'])\n",
    "x['match'] =np.nan\n",
    "x['r1'] = x['r1'].apply(lambda y: 1 if y == True else 0)\n",
    "x['r2'] = x['r2'].apply(lambda y: 1 if y == True else 0)\n",
    "x['r3'] = x['r3'].apply(lambda y: 1 if y == True else 0)\n",
    "x['r4'] = x['r4'].apply(lambda y: 1 if y == True else 0)\n",
    "x['sumr']   =    x['r1'] + x['r2'] +x['r3'] +x['r4'] \n",
    "x['match']= x['sumr'].apply(lambda y: 1 if y>0 else 0)\n"
   ]
  },
  {
   "cell_type": "markdown",
   "metadata": {},
   "source": [
    "This is the total number of matches "
   ]
  },
  {
   "cell_type": "code",
   "execution_count": 286,
   "metadata": {},
   "outputs": [
    {
     "data": {
      "text/plain": [
       "79"
      ]
     },
     "execution_count": 286,
     "metadata": {},
     "output_type": "execute_result"
    }
   ],
   "source": [
    "x['match'].sum()"
   ]
  },
  {
   "cell_type": "code",
   "execution_count": null,
   "metadata": {},
   "outputs": [],
   "source": []
  }
 ],
 "metadata": {
  "kernelspec": {
   "display_name": "Python 3",
   "language": "python",
   "name": "python3"
  },
  "language_info": {
   "codemirror_mode": {
    "name": "ipython",
    "version": 3
   },
   "file_extension": ".py",
   "mimetype": "text/x-python",
   "name": "python",
   "nbconvert_exporter": "python",
   "pygments_lexer": "ipython3",
   "version": "3.7.4"
  }
 },
 "nbformat": 4,
 "nbformat_minor": 2
}
