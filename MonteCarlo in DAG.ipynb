{
 "cells": [
  {
   "cell_type": "code",
   "execution_count": 1,
   "metadata": {},
   "outputs": [],
   "source": [
    "import networkx as nx\n",
    "import numpy as np\n",
    "import pandas as pd\n",
    "DG = nx.DiGraph()"
   ]
  },
  {
   "cell_type": "code",
   "execution_count": 2,
   "metadata": {},
   "outputs": [],
   "source": [
    "import json\n",
    "\n",
    "file = \"/Users/zainabazizzaveri/Downloads/survey_1120.json\"\n",
    "with open(file) as f:\n",
    "    data = json.load(f)\n",
    "G = nx.node_link_graph(data, directed = True, multigraph = True, attrs = None)\n"
   ]
  },
  {
   "cell_type": "code",
   "execution_count": 3,
   "metadata": {},
   "outputs": [
    {
     "data": {
      "text/plain": [
       "1721"
      ]
     },
     "execution_count": 3,
     "metadata": {},
     "output_type": "execute_result"
    }
   ],
   "source": [
    "G.number_of_nodes()"
   ]
  },
  {
   "cell_type": "code",
   "execution_count": 4,
   "metadata": {},
   "outputs": [
    {
     "data": {
      "text/plain": [
       "{}"
      ]
     },
     "execution_count": 4,
     "metadata": {},
     "output_type": "execute_result"
    }
   ],
   "source": [
    "a = G.nodes()\n",
    "G.nodes['pasta']"
   ]
  },
  {
   "cell_type": "code",
   "execution_count": 5,
   "metadata": {},
   "outputs": [],
   "source": [
    "import matplotlib.pyplot as plt"
   ]
  },
  {
   "cell_type": "code",
   "execution_count": 6,
   "metadata": {},
   "outputs": [],
   "source": [
    "#nx.ancestors(G, 'olives')"
   ]
  },
  {
   "cell_type": "code",
   "execution_count": 7,
   "metadata": {},
   "outputs": [
    {
     "data": {
      "text/plain": [
       "False"
      ]
     },
     "execution_count": 7,
     "metadata": {},
     "output_type": "execute_result"
    }
   ],
   "source": [
    "nx.descendants(G, 'egg')\n",
    "\n",
    "nx.is_directed_acyclic_graph(G)"
   ]
  },
  {
   "cell_type": "code",
   "execution_count": 8,
   "metadata": {},
   "outputs": [],
   "source": [
    "T = nx.dfs_tree(G, source='pasta', depth_limit=2)"
   ]
  },
  {
   "cell_type": "code",
   "execution_count": 9,
   "metadata": {},
   "outputs": [],
   "source": [
    "#list(T.edges())"
   ]
  },
  {
   "cell_type": "code",
   "execution_count": 10,
   "metadata": {},
   "outputs": [],
   "source": [
    "roots = (v for v, d in G.in_degree() if d == 0)\n",
    "for root in roots:\n",
    "    all_weights = []\n",
    "    x = nx.descendants(G,root)\n",
    "    for item in x:\n",
    "        if G.has_edge(root,item):\n",
    "            weight = G.get_edge_data(root, item) \n",
    "            all_weights.append(weight['weight'])\n",
    "    #print(all_weights)\n",
    "    all_weights.sort(reverse = True)\n",
    "    divider = sum(all_weights)\n",
    "    #print(divider)\n",
    "    for item in x:\n",
    "        if G.has_edge(root,item):\n",
    "            G[root][item]['weight'] = G[root][item]['weight']/divider\n",
    "            #print(G[root][item]['weight'],root,item)"
   ]
  },
  {
   "cell_type": "code",
   "execution_count": 11,
   "metadata": {},
   "outputs": [],
   "source": [
    "def get_successors(node):\n",
    "        p = G.successors(node)\n",
    "        return p"
   ]
  },
  {
   "cell_type": "code",
   "execution_count": 12,
   "metadata": {},
   "outputs": [],
   "source": [
    "def get_current_sucessors(x,starting_node):\n",
    "    list_of_weights = []\n",
    "    list_of_succ = []\n",
    "\n",
    "    \n",
    "    for item in x:\n",
    "        list_of_succ.append(item)\n",
    "        x1 = G.get_edge_data(starting_node,item) \n",
    "        \n",
    "        if x1 != None:\n",
    "            list_of_weights.append(x1['weight'])\n",
    "        else:\n",
    "            continue\n",
    "            \n",
    "    divider = sum(list_of_weights)\n",
    "    lista.append(starting_node)\n",
    "    #print(lista)\n",
    "    \n",
    "    for item,x in enumerate(list_of_weights):\n",
    "        list_of_weights[item] = float(x/divider)\n",
    "        \n",
    "    if len((list_of_succ))>0:\n",
    "        node = np.random.choice(np.array(list_of_succ), p=list_of_weights)\n",
    "        ind = list_of_succ.index(node)\n",
    "        b = lista[-1]\n",
    "        \n",
    "        if b in G:\n",
    "            if G.has_edge(b,starting_node):\n",
    "                parentweight1 = G.get_edge_data(b, starting_node)\n",
    "                a = get_successors(b)\n",
    "\n",
    "                for item in a:\n",
    "                    x1 = G.get_edge_data(lista[-1],item)\n",
    "\n",
    "                    if x1 != None:\n",
    "                        list_of_weights.append(x1['weight'])\n",
    "                divider = sum(list_of_weights)\n",
    "                weightx = (parentweight1['weight']/divider)*list_of_weights[ind]       \n",
    "            else:\n",
    "                weightx = 0\n",
    "        listb = [node, weightx]\n",
    "        return listb\n",
    "    else:\n",
    "        return None"
   ]
  },
  {
   "cell_type": "code",
   "execution_count": 13,
   "metadata": {},
   "outputs": [],
   "source": [
    "lista = []"
   ]
  },
  {
   "cell_type": "code",
   "execution_count": 14,
   "metadata": {},
   "outputs": [],
   "source": [
    "starting_node = 'pasta'\n",
    "list_x = get_successors(starting_node)\n",
    "list_y = get_successors(starting_node)\n",
    "freq = {}\n",
    "montecarlo = 1000\n",
    "\n",
    "for n in range(montecarlo):\n",
    "    list_x = get_successors(starting_node)\n",
    "    listx = get_current_sucessors(list_x,starting_node)\n",
    "    \n",
    "    if (listx[0] in freq) and listx[1]>0:\n",
    "        \n",
    "        if (h in freq): \n",
    "            freq[listx[0]] += 1\n",
    "        else: \n",
    "            freq[listx[0]] = 1\n",
    "\n",
    "for n in list_y:\n",
    "\n",
    "    for i in range(montecarlo):\n",
    "        x = get_successors(n)\n",
    "       \n",
    "        if x!= None :\n",
    "            listx = get_current_sucessors(x,n)\n",
    "            \n",
    "            if listx != None:\n",
    "                \n",
    "                if (listx[0] in freq) and listx[1]>0: \n",
    "                    freq[listx[0]] += 1*listx[1]\n",
    "                elif listx[1]>0: \n",
    "                    freq[listx[0]] = 1*listx[1]\n",
    "        else:\n",
    "            break\n"
   ]
  },
  {
   "cell_type": "code",
   "execution_count": 15,
   "metadata": {
    "scrolled": false
   },
   "outputs": [],
   "source": [
    "#del freq[None]\n",
    "\n",
    "#print(freq)"
   ]
  },
  {
   "cell_type": "code",
   "execution_count": 16,
   "metadata": {},
   "outputs": [
    {
     "data": {
      "text/plain": [
       "[(20.22692616372397, 'fat'),\n",
       " (23.843282541414105, 'pork'),\n",
       " (27.219065531777325, 'salad dressing'),\n",
       " (29.848448145260775, 'egg'),\n",
       " (35.74955011893775, 'broccoli'),\n",
       " (37.059043702377465, 'carrots'),\n",
       " (55.16701422887167, 'onions'),\n",
       " (73.90670433043265, 'beverages'),\n",
       " (89.20607836993041, 'chicken'),\n",
       " (107.95975974732922, 'margarine-like spread'),\n",
       " (199.45633947721228, 'ground beef'),\n",
       " (218.79322752945882, 'garlic'),\n",
       " (280.99412476854206, 'salt'),\n",
       " (412.3493651586247, 'cheese'),\n",
       " (448.5104160242647, 'milk'),\n",
       " (479.9924900602939, 'crackers'),\n",
       " (500.1041495604775, 'nuts'),\n",
       " (695.4266937405341, 'butter'),\n",
       " (722.9678522970894, 'cream')]"
      ]
     },
     "execution_count": 16,
     "metadata": {},
     "output_type": "execute_result"
    }
   ],
   "source": [
    "\n",
    "sorted_d = sorted((value, key) for (key,value) in freq.items())\n",
    "items= sorted_d[-20:-1]\n",
    "items"
   ]
  },
  {
   "cell_type": "code",
   "execution_count": 18,
   "metadata": {},
   "outputs": [
    {
     "data": {
      "image/png": "[encoded data removed]",
      "text/plain": [
       "<Figure size 432x288 with 1 Axes>"
      ]
     },
     "metadata": {
      "needs_background": "light"
     },
     "output_type": "display_data"
    }
   ],
   "source": [
    "ys, labels = zip(*items)\n",
    "plt.bar(labels,ys, align='center')\n",
    "plt.xticks(labels,rotation=90) \n",
    "plt.savefig('pastax.png',dpi=1000,quality = 95,bbox_inches = \"tight\")"
   ]
  },
  {
   "cell_type": "code",
   "execution_count": null,
   "metadata": {},
   "outputs": [],
   "source": []
  }
 ],
 "metadata": {
  "kernelspec": {
   "display_name": "Python 3",
   "language": "python",
   "name": "python3"
  },
  "language_info": {
   "codemirror_mode": {
    "name": "ipython",
    "version": 3
   },
   "file_extension": ".py",
   "mimetype": "text/x-python",
   "name": "python",
   "nbconvert_exporter": "python",
   "pygments_lexer": "ipython3",
   "version": "3.7.4"
  }
 },
 "nbformat": 4,
 "nbformat_minor": 2
}
